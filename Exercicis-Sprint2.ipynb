{
 "cells": [
  {
   "cell_type": "markdown",
   "metadata": {},
   "source": [
    "# **Exercicis Sprint 2** 🤓\n",
    "## NIVELL 1\n",
    "### Exercici 1 ✅\n",
    "Instal·la el programa Anaconda amb python 3 i Jupiter Notebook\n",
    "### Exercici 2 ✅\n",
    "Utilitzant Jupyter Notebook executa alguns càlculs senzills, a la vegada que et familiaritzes amb el llenguatge Markdown.\n",
    "### Exercici 3 ✅\n",
    "Prova de crear títols, llistes, canviar l’estil de la lletra o afegir imatges dins del Notebook.\n",
    "\n",
    "## NIVELL 2\n",
    "### Exercici 1✅\n",
    "Exporta el Notebook com a pdf i com a html\n",
    "\n",
    "## NIVELL 3\n",
    "### Exercici 1 ✅\n",
    "Instal·la Nbextensions al Notebook de Jupyter"
   ]
  },
  {
   "cell_type": "code",
   "execution_count": 1,
   "metadata": {},
   "outputs": [
    {
     "name": "stdout",
     "output_type": "stream",
     "text": [
      "Inserta un número2\n",
      "Inserta otro número3\n",
      "La suma de  2  +  3 es 5\n",
      "La resta de  2  -  3 es -1\n",
      "La multiplicación de  2  *  3 es 6\n",
      "La división de  2  /  3 es 0.6666666666666666\n"
     ]
    }
   ],
   "source": [
    "#Nivell 2 - Exercici 2\n",
    "\n",
    "\n",
    "\n",
    "def suma(num1, num2):\n",
    "    resultado = num1 + num2\n",
    "    return resultado\n",
    "\n",
    "\n",
    "def resta(num1, num2):\n",
    "    resultado1 = num1 - num2\n",
    "    return resultado1\n",
    "\n",
    "\n",
    "def mult(num1, num2):\n",
    "    resultado = num1 * num2\n",
    "    return resultado\n",
    "\n",
    "\n",
    "def div(num1, num2):\n",
    "    resultado = num1 / num2\n",
    "    return resultado\n",
    "\n",
    "num1 = int(input(\"Inserta un número\"))\n",
    "num2 = int(input(\"Inserta otro número\"))\n",
    "\n",
    "print(\"La suma de \", num1, \" + \", num2, \"es\", suma(num1, num2))\n",
    "print(\"La resta de \", num1, \" - \", num2, \"es\", resta(num1, num2))\n",
    "print(\"La multiplicación de \", num1, \" * \", num2, \"es\", mult(num1, num2))\n",
    "print(\"La división de \", num1, \" / \", num2, \"es\", div(num1, num2))\n"
   ]
  }
 ],
 "metadata": {
  "kernelspec": {
   "display_name": "Python 3",
   "language": "python",
   "name": "python3"
  },
  "language_info": {
   "codemirror_mode": {
    "name": "ipython",
    "version": 3
   },
   "file_extension": ".py",
   "mimetype": "text/x-python",
   "name": "python",
   "nbconvert_exporter": "python",
   "pygments_lexer": "ipython3",
   "version": "3.8.5"
  },
  "latex_envs": {
   "LaTeX_envs_menu_present": true,
   "autoclose": false,
   "autocomplete": true,
   "bibliofile": "biblio.bib",
   "cite_by": "apalike",
   "current_citInitial": 1,
   "eqLabelWithNumbers": true,
   "eqNumInitial": 1,
   "hotkeys": {
    "equation": "Ctrl-E",
    "itemize": "Ctrl-I"
   },
   "labels_anchors": false,
   "latex_user_defs": false,
   "report_style_numbering": false,
   "user_envs_cfg": false
  },
  "varInspector": {
   "cols": {
    "lenName": 16,
    "lenType": 16,
    "lenVar": 40
   },
   "kernels_config": {
    "python": {
     "delete_cmd_postfix": "",
     "delete_cmd_prefix": "del ",
     "library": "var_list.py",
     "varRefreshCmd": "print(var_dic_list())"
    },
    "r": {
     "delete_cmd_postfix": ") ",
     "delete_cmd_prefix": "rm(",
     "library": "var_list.r",
     "varRefreshCmd": "cat(var_dic_list()) "
    }
   },
   "types_to_exclude": [
    "module",
    "function",
    "builtin_function_or_method",
    "instance",
    "_Feature"
   ],
   "window_display": false
  }
 },
 "nbformat": 4,
 "nbformat_minor": 4
}
